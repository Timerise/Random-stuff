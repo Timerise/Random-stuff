{
 "cells": [
  {
   "cell_type": "markdown",
   "metadata": {},
   "source": [
    "# Messing around with Stock data\n",
    "## A random selection of stock data "
   ]
  },
  {
   "cell_type": "code",
   "execution_count": 7,
   "metadata": {},
   "outputs": [
    {
     "name": "stdout",
     "output_type": "stream",
     "text": [
      "package 'quantmod' successfully unpacked and MD5 sums checked\n",
      "\n",
      "The downloaded binary packages are in\n",
      "\tC:\\Users\\dragon\\AppData\\Local\\Temp\\RtmpqGR7FM\\downloaded_packages\n",
      "package 'corrplot' successfully unpacked and MD5 sums checked\n",
      "\n",
      "The downloaded binary packages are in\n",
      "\tC:\\Users\\dragon\\AppData\\Local\\Temp\\RtmpqGR7FM\\downloaded_packages\n"
     ]
    }
   ],
   "source": [
    "install.packages(\"quantmod\")\n",
    "install.packages(\"corrplot\")"
   ]
  },
  {
   "cell_type": "code",
   "execution_count": 8,
   "metadata": {},
   "outputs": [
    {
     "name": "stderr",
     "output_type": "stream",
     "text": [
      "Loading required package: xts\n",
      "Loading required package: zoo\n",
      "\n",
      "Attaching package: 'zoo'\n",
      "\n",
      "The following objects are masked from 'package:base':\n",
      "\n",
      "    as.Date, as.Date.numeric\n",
      "\n",
      "Loading required package: TTR\n",
      "Version 0.4-0 included new data defaults. See ?getSymbols.\n"
     ]
    }
   ],
   "source": [
    "library(corrplot)\n",
    "library(quantmod)"
   ]
  },
  {
   "cell_type": "code",
   "execution_count": 48,
   "metadata": {},
   "outputs": [],
   "source": [
    "TLND_data=getSymbols(\"TLND\",src='yahoo')\n",
    "\n",
    "one_data=getSymbols(\"ONE\",src='yahoo')\n",
    "\n",
    "nine_data=getSymbols(\"NINE\",src='yahoo')\n",
    "\n",
    "ten_data=getSymbols(\"TEN\",src='yahoo')\n",
    "\n",
    "KED_data=getSymbols(\"KROTY\",src='yahoo')\n",
    "\n",
    "sete_data=getSymbols(\"STG\",src='yahoo')\n",
    "\n",
    "red_data=getSymbols(\"REDU\",src='yahoo')\n",
    "\n",
    "dd_data=getSymbols(\"USX\",src='yahoo')"
   ]
  },
  {
   "cell_type": "code",
   "execution_count": 49,
   "metadata": {},
   "outputs": [
    {
     "data": {
      "text/plain": [
       "           USX.Open USX.High USX.Low USX.Close USX.Volume USX.Adjusted\n",
       "2019-06-19     5.49    5.558   5.105      5.17     242800         5.17\n",
       "2019-06-20     5.20    5.320   5.090      5.13     163600         5.13\n",
       "2019-06-21     5.10    5.140   4.970      5.14     258200         5.14\n",
       "2019-06-24     5.09    5.090   4.910      4.94     196000         4.94\n",
       "2019-06-25     4.94    4.995   4.870      4.96     140200         4.96\n",
       "2019-06-26     4.98    5.170   4.890      4.97     222600         4.97"
      ]
     },
     "metadata": {},
     "output_type": "display_data"
    }
   ],
   "source": [
    "tail(USX)"
   ]
  },
  {
   "cell_type": "code",
   "execution_count": 50,
   "metadata": {},
   "outputs": [],
   "source": [
    "data1<-as.data.frame(cbind(USX$USX.Volume,REDU$REDU.Volume, STG$STG.Volume,KROTY$KROTY.Volume,TEN$TEN.Volume,NINE$NINE.Volume,ONE$ONE.Volume,TLND$TLND.Volume))"
   ]
  },
  {
   "cell_type": "code",
   "execution_count": 51,
   "metadata": {},
   "outputs": [],
   "source": [
    "colnames(data1)<-c(\"USX\",\"REDU\",\"STG\",\"KROTY\",\"TEN\",\"NINE\",\"ONE\",\"TLND\")\n",
    "nimdata=cor(data1,use=\"complete.obs\")\n"
   ]
  },
  {
   "cell_type": "code",
   "execution_count": 14,
   "metadata": {},
   "outputs": [
    {
     "data": {
      "image/png": "[encoded data removed]",
      "text/plain": [
       "Plot with title \"Stock Correlogram\""
      ]
     },
     "metadata": {},
     "output_type": "display_data"
    }
   ],
   "source": [
    "corrplot.mixed(nimdata,upper=\"pie\",number.cex=.8,col=c(\"green\",\"red\",\"yellow\",\"brown\",\"blue\"), main=\"Stock Correlogram\")\n"
   ]
  }
 ],
 "metadata": {
  "kernelspec": {
   "display_name": "R",
   "language": "R",
   "name": "ir"
  },
  "language_info": {
   "codemirror_mode": "r",
   "file_extension": ".r",
   "mimetype": "text/x-r-source",
   "name": "R",
   "pygments_lexer": "r",
   "version": "3.4.3"
  }
 },
 "nbformat": 4,
 "nbformat_minor": 2
}
